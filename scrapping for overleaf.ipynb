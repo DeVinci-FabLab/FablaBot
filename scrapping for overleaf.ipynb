{
 "cells": [
  {
   "cell_type": "code",
   "execution_count": 82,
   "metadata": {},
   "outputs": [],
   "source": [
    "from selenium import webdriver\n",
    "from selenium.webdriver.chrome.options import Options\n",
    "from selenium.webdriver.chrome.service import Service\n",
    "from webdriver_manager.chrome import ChromeDriverManager\n",
    "from selenium.webdriver.common.by import By\n",
    "from selenium.webdriver.support.ui import WebDriverWait\n",
    "from selenium.webdriver.support import expected_conditions as EC\n",
    "import time\n",
    "import os\n",
    "from dotenv import load_dotenv\n",
    "\n",
    "load_dotenv()\n",
    "\n",
    "EMAIL = os.environ.get(\"MY_GMAIL_ACCOUNT\")\n",
    "PASSWORD = os.environ.get(\"MY_GMAIL_PASSWORD\")\n",
    "\n",
    "\n",
    "\n",
    "options = Options()\n",
    "options.add_argument('--no-sandbox')\n",
    "options.add_argument('--disable-dev-shm-usage')\n",
    "options.add_argument('--headless')\n",
    "def load_driver():\n",
    "    driver = webdriver.Chrome(service=Service(ChromeDriverManager().install()), options=options)\n",
    "    \n",
    "    driver = webdriver.Chrome(service=Service(ChromeDriverManager().install()), options=options)\n",
    "    driver.get(\"https://www.overleaf.com/login\")\n",
    "\n",
    "    driver.get(\"https://www.overleaf.com/auth/orcid?intent=sign_in\")\n",
    "\n",
    "    WebDriverWait(driver, 30).until(EC.presence_of_element_located((By.CLASS_NAME, 'mat-button-wrapper')))\n",
    "    driver.find_elements(By.CSS_SELECTOR, \"input[formcontrolname='username']\")[0].send_keys(EMAIL)\n",
    "    driver.find_elements(By.CSS_SELECTOR, \"input[formcontrolname='password']\")[0].send_keys(PASSWORD)\n",
    "\n",
    "    #click on button with type submit\n",
    "    driver.find_elements(By.CSS_SELECTOR, \"button[type='submit']\")[0].click()\n",
    "    try:\n",
    "        WebDriverWait(driver, 10).until(EC.presence_of_element_located((By.CSS_SELECTOR, \"input[placeholder='Search projects…']\")))\n",
    "    except:\n",
    "        print(\"errorduring login\")\n",
    "    return(driver)\n",
    "def create_latex(name):\n",
    "    driver=load_driver()\n",
    "    find_latex(\"Template FORMATION 2023\",driver).find_element(By.CSS_SELECTOR, \"td.dash-cell-actions\").find_elements(By.CSS_SELECTOR, \"div\")[0].find_elements(By.CSS_SELECTOR, \"button\")[0].click()\n",
    "    time.sleep(0.5)\n",
    "    INPUT=driver.find_element(By.XPATH, \"//input[@placeholder='New Project Name']\")\n",
    "    INPUT.clear()\n",
    "    INPUT.send_keys(name)\n",
    "    driver.find_element(By.XPATH, \"//button[text()='Copy' and @type='submit']\").click()\n",
    "    driver.get(\"https://www.overleaf.com/project\")\n",
    "    return(driver)\n",
    "\n",
    "def find_latex(name,driver):\n",
    "    #find element with xpath with placeholder=\"Search projects...\", and type='text'\n",
    "    driver.find_elements(By.XPATH, \"//input[@placeholder='Search projects…' and @aria-label='Search projects…' and @type='text'] \")[0].send_keys(name)\n",
    "    time.sleep(0.5)\n",
    "    data=driver.find_elements(By.CSS_SELECTOR, \"tbody tr\")\n",
    "    value=[i.find_elements(By.CSS_SELECTOR, \"td.dash-cell-name\")[0].find_element(By.CSS_SELECTOR, \"a\").text for i in data].index(name)\n",
    "    #get dash-cell-actions in data[value]\n",
    "    return(data[value])\n",
    "driver=create_latex(\"formation élec\")"
   ]
  },
  {
   "cell_type": "code",
   "execution_count": null,
   "metadata": {},
   "outputs": [],
   "source": []
  }
 ],
 "metadata": {
  "kernelspec": {
   "display_name": "Python 3",
   "language": "python",
   "name": "python3"
  },
  "language_info": {
   "codemirror_mode": {
    "name": "ipython",
    "version": 3
   },
   "file_extension": ".py",
   "mimetype": "text/x-python",
   "name": "python",
   "nbconvert_exporter": "python",
   "pygments_lexer": "ipython3",
   "version": "3.10.10"
  },
  "orig_nbformat": 4,
  "vscode": {
   "interpreter": {
    "hash": "767d51c1340bd893661ea55ea3124f6de3c7a262a8b4abca0554b478b1e2ff90"
   }
  }
 },
 "nbformat": 4,
 "nbformat_minor": 2
}
